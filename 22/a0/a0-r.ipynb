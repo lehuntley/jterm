{
 "cells": [
  {
   "cell_type": "markdown",
   "id": "36954c9a",
   "metadata": {},
   "source": [
    "# Assignment 0: Jupyter Notebooks\n",
    "\n",
    "In this assignment you be introduced to Jupyter notebooks. \n",
    "\n",
    "**Note:** This is a text cell. If you double-click on it you can edit the contents. Double click on this cell and add your name and the date.\n",
    "\n",
    "**Due:** End of Afternoon Session\n",
    "\n",
    "**Name:**\n",
    "\n",
    "**Date:**"
   ]
  },
  {
   "cell_type": "markdown",
   "id": "e9a14012",
   "metadata": {},
   "source": [
    "## Jupyter notebooks\n",
    "\n",
    "This webpage is called a Jupyter notebook. A notebook is a place to write programs and view their results, and also to write text.\n",
    "\n",
    "### Text cells\n",
    "In a notebook, each rectangle containing text or code is called a **cell**.\n",
    "\n",
    "Text cells (like this one) can be edited by double-clicking on them. They're written in a simple format called [Markdown](https://www.markdownguide.org/basic-syntax/) to add formatting and section headings.  You don't need to learn Markdown, but it may be beneficial for you to do so.\n",
    "\n",
    "After you edit a text cell, click the \"run cell\" button at the top that looks like ▶| or hold down `shift` + `return` to confirm any changes. \n",
    "\n",
    "**Note:** Try not to delete the instructions of the lab."
   ]
  },
  {
   "cell_type": "markdown",
   "id": "a0ccd19d",
   "metadata": {},
   "source": [
    "<!-- BEGIN QUESTION -->\n",
    "\n",
    "**Question 1.** This paragraph is in its own text cell. In the cell below type in your name, graduation year, and home high school name. \n",
    "\n",
    "Use the following template as a guide.\n",
    "\n",
    "**Note:** To get bold text use two stars `**` before and after the word/phase you want to bold. To get italics use one star `*` before and after the word/phase your want italicized. For example, `**bold**` will be rendered as **bold** and `*italic*` will be rendered as *italic*`.\n",
    "\n",
    "**Name:**\n",
    "\n",
    "**Graduation Year:**\n",
    "\n",
    "**Home High School:**"
   ]
  },
  {
   "cell_type": "markdown",
   "id": "9c54a3c8",
   "metadata": {},
   "source": [
    "**SOLUTION:** Answers will vary."
   ]
  },
  {
   "cell_type": "markdown",
   "id": "60da4998",
   "metadata": {},
   "source": [
    "<!-- END QUESTION -->\n",
    "\n",
    "<!-- BEGIN QUESTION -->\n",
    "\n",
    "**Question 2.** Create the following table\n",
    "\n",
    "| Dimensions | Same Type     | Mixed Type |\n",
    "| -----------| --------------|------------|\n",
    "| 1D         | Atomic Vector | List       |\n",
    "| 2D         | Matrix        | Dataframe  | \n",
    "\n",
    "in the cell below."
   ]
  },
  {
   "cell_type": "markdown",
   "id": "438d52c0",
   "metadata": {},
   "source": [
    "**SOLUTION:** See table"
   ]
  },
  {
   "cell_type": "markdown",
   "id": "cb7fa359",
   "metadata": {},
   "source": [
    "<!-- END QUESTION -->\n",
    "\n",
    "### Code Cells\n",
    "\n",
    "Other cells contain code in the Python 3 language. Running a code cell will execute all of the code it contains.\n",
    "\n",
    "To run the code in a code cell, first click on that cell to activate it. It'll be highlighted with a little green or blue rectangle.  Next, either press ▶| or hold down `shift` + `return`.\n",
    "\n",
    "Try running the cell below."
   ]
  },
  {
   "cell_type": "code",
   "execution_count": null,
   "id": "aeab790c",
   "metadata": {},
   "outputs": [],
   "source": [
    "print(\"Hello World\")"
   ]
  },
  {
   "cell_type": "markdown",
   "id": "f19d7894",
   "metadata": {},
   "source": [
    "And this one."
   ]
  },
  {
   "cell_type": "code",
   "execution_count": null,
   "id": "3efdff48",
   "metadata": {},
   "outputs": [],
   "source": [
    "1:10"
   ]
  },
  {
   "cell_type": "code",
   "execution_count": null,
   "id": "ca869440",
   "metadata": {},
   "outputs": [],
   "source": [
    "And this one."
   ]
  },
  {
   "cell_type": "code",
   "execution_count": null,
   "id": "e58347b7",
   "metadata": {},
   "outputs": [],
   "source": [
    "seq(from=0, to=100, by=10)"
   ]
  },
  {
   "cell_type": "markdown",
   "id": "729da0a7",
   "metadata": {},
   "source": [
    "### Writing in Jupyter Notebooks\n",
    "\n",
    "You can use Jupyter notebooks for your own projects or documents.  When you make your own notebook, you'll need to create your own cells for text and code.\n",
    "\n",
    "To add a cell, click the + button in the menu bar.  It'll start out as a text cell.  You can change it to a code cell by clicking inside it so it's highlighted, clicking the drop-down box next to the restart (⟳) button in the menu bar, and choosing \"Code\"."
   ]
  },
  {
   "cell_type": "markdown",
   "id": "2c1b8817",
   "metadata": {},
   "source": [
    "<!-- BEGIN QUESTION -->\n",
    "\n",
    "**Question 3.** Add a code cell below this one.  Write code in it that prints out:\n",
    "   \n",
    "    A whole new cell!\n",
    "\n",
    "**Hint:** That musical note symbol is like the Earth symbol.  Its long-form name is `\\N{EIGHTH NOTE}`.\n",
    "\n",
    "Run your cell to verify that it works."
   ]
  },
  {
   "cell_type": "code",
   "execution_count": null,
   "id": "430532fc",
   "metadata": {
    "tags": []
   },
   "outputs": [],
   "source": [
    "# YOUR CODE HERE"
   ]
  },
  {
   "cell_type": "markdown",
   "id": "bc5f0a07",
   "metadata": {},
   "source": [
    "<!-- END QUESTION -->\n",
    "\n",
    "### Errors\n",
    "\n",
    "R is a language, and like natural human languages, it has rules.  It differs from natural language in two important ways:\n",
    "\n",
    "1. The rules are *simple*.  You can learn most of them in a few weeks and gain reasonable proficiency with the language in a semester.\n",
    "\n",
    "2. The rules are *rigid*.  If you're proficient in a natural language, you can understand a non-proficient speaker, glossing over small mistakes.  A computer running Python code is not smart enough to do that.\n",
    "\n",
    "Whenever you write code, you'll make mistakes.  When you run a code cell that has errors, R will sometimes produce error messages to tell you what you did wrong.\n",
    "\n",
    "Errors are okay; even experienced programmers make many errors.  When you make an error, you just have to find the source of the problem, fix it, and move on.\n",
    "\n",
    "There is an error in the next cell.  Run it and see what happens."
   ]
  },
  {
   "cell_type": "code",
   "execution_count": null,
   "id": "5381f2e4",
   "metadata": {},
   "outputs": [],
   "source": [
    "print(\"I made an error\""
   ]
  },
  {
   "cell_type": "markdown",
   "id": "59878c56",
   "metadata": {},
   "source": [
    "**Note:** In the toolbar, there is the option to click `Run > Run All Cells`, which will run all the code cells in this notebook in order. However, the notebook stops running code cells if it hits an error, like the one in the cell above."
   ]
  },
  {
   "cell_type": "markdown",
   "id": "13707fa4",
   "metadata": {},
   "source": [
    "You should see something like this (minus our annotations):\n",
    "\n",
    "<img src=\"images/r-error.jpg\" />\n",
    "\n",
    "The last line of the error output attempts to tell you what went wrong.  The *syntax* of a language is its structure, and this `SyntaxError` tells you that you have created an illegal structure.  \"`:unexpected end of input`\" means R expected you to write something more (in this case, a right parenthesis) before finishing the cell.\n",
    "\n",
    "There's a lot of terminology in programming languages, but you don't need to know it all in order to program effectively. If you see a cryptic message like this, you can often get by without deciphering it. Of course, if you're frustrated, ask a friend, a classmate, or your instructor for help.\n",
    "\n",
    "Try to fix the code above so that you can run the cell and see the intended message instead of an error."
   ]
  },
  {
   "cell_type": "markdown",
   "id": "20b7fe3c",
   "metadata": {},
   "source": [
    "### The Kernel\n",
    "\n",
    "The kernel is a program that executes the code inside your notebook and outputs the results. In the top right of your window, you can see a circle that indicates the status of your kernel. If the circle is empty (⚪), the kernel is idle and ready to execute code. If the circle is filled in (⚫), the kernel is busy running some code. \n",
    "\n",
    "Next to every code cell, you'll see some text that says `[ ]:`. Before you run the cell, you'll see `[ ]:`. When the cell is running, you'll see `[*]`. If you see an asterisk (\\*) next to a cell that doesn't go away, it's likely that the code inside the cell is taking too long to run, and it might be a good time to interrupt the kernel (discussed below). When a cell is finished running, you'll see a number inside the brackets, like so: `[1]`. The number corresponds to the order in which you run the cells; so, the first cell you run will show a 1 when it's finished running, the second will show a 2, and so on. \n",
    "\n",
    "You may run into problems where your kernel is stuck for an excessive amount of time, your notebook is very slow and unresponsive, or your kernel loses its connection. If this happens, try the following steps:\n",
    "\n",
    "1. At the top of your screen, click **Kernel**, then **Interrupt Kernel**. Trying running your code again.\n",
    "\n",
    "2. If that doesn't help, click **Kernel**, then **Restart Kernel**. If you do this, you will have to run your code cells from the start of your notebook up until where you paused your work.\n",
    "\n",
    "3. If that doesn't help, restart your server. This is very rarely needed, but it's good to know how to do just in case. First, save your work by clicking **File** at the top left of your screen, then **Save Notebook**. Next, click **File** again and choose **Hub Control Panel** and select **Stop My Server** to shut it down. Then, after a few moments select **Start My Server** to start it back up. Then, navigate back to the notebook you were working on. You'll still have to run your code cells again."
   ]
  },
  {
   "cell_type": "markdown",
   "id": "ed888488",
   "metadata": {},
   "source": [
    "## Numbers and Arithmetic\n",
    "\n",
    "Quantitative information arises everywhere in data science. In addition to representing commands to print out lines, expressions can represent numbers and methods of combining numbers. The expression `3.2500` evaluates to the number 3.25. \n",
    "\n",
    "Run the cell and see."
   ]
  },
  {
   "cell_type": "code",
   "execution_count": null,
   "id": "d29c240e",
   "metadata": {},
   "outputs": [],
   "source": [
    "3.25"
   ]
  },
  {
   "cell_type": "markdown",
   "id": "071902b0",
   "metadata": {},
   "source": [
    "Notice that we didn't have to `print`. When you run a notebook cell, if the last line has a value, then Jupyter helpfully prints out that value for you. However, it won't print out prior lines automatically.\n",
    "\n",
    "The line in the next cell subtracts. It's value is what you'd expect. Run it."
   ]
  },
  {
   "cell_type": "code",
   "execution_count": null,
   "id": "ad67e5ef",
   "metadata": {},
   "outputs": [],
   "source": [
    "3.25-1.5"
   ]
  },
  {
   "cell_type": "markdown",
   "id": "5566293f",
   "metadata": {},
   "source": [
    "Many basic arithmetic operations are built into R.  The website [Arithmetic Operators](https://stat.ethz.ch/R-manual/R-patched/library/base/html/Arithmetic.html) describes all the arithmetic operators used in the course. The order of operations is the same as what you learned in elementary school, and Python also has parentheses.  For example, compare the outputs of the cells below. The second cell uses parentheses for a happy new year."
   ]
  },
  {
   "cell_type": "code",
   "execution_count": null,
   "id": "6d9a5a9d",
   "metadata": {},
   "outputs": [],
   "source": [
    "6+6*5-6*3**2*2**3/4*7"
   ]
  },
  {
   "cell_type": "code",
   "execution_count": null,
   "id": "5b848cdf",
   "metadata": {},
   "outputs": [],
   "source": [
    "6+(6*5-(6*3))**2*((2**3)/4*7)"
   ]
  },
  {
   "cell_type": "markdown",
   "id": "4e1f061a",
   "metadata": {},
   "source": [
    "In standard math notation, the first expression is\n",
    "\n",
    "$$5 + 6 \\times 5 - 6 \\times 3^2 \\times \\frac{2^3}{4} \\times 7,$$\n",
    "\n",
    "while the second expression is\n",
    "\n",
    "$$5 + (6 \\times 5 - \\left(6 \\times 3)\\right)^2 \\times \\left(\\frac{(2^3)}{4} \\times 7\\right).$$"
   ]
  },
  {
   "cell_type": "markdown",
   "id": "ba96c4fb",
   "metadata": {},
   "source": [
    "<!-- BEGIN QUESTION -->\n",
    "\n",
    "**Question 4.** Write a Python expression in this next cell that's equal to \n",
    "\n",
    "$$5 \\times \\left(3 \\frac{10}{11}\\right) - 50 \\frac{1}{3} + 2^{.5 \\times 22} - \\frac{7}{33} + 5$$\n",
    "\n",
    "That's five times three and ten elevenths, minus fifty and a third, plus two to the power of half twenty-two, minus seven thirty-thirds plus four.  By \"$3 \\frac{10}{11}$\" we mean $3+\\frac{10}{11}$, not $3 \\times \\frac{10}{11}$.\n",
    "\n",
    "Replace the ellipses (`...`) with your expression.  Try to use parentheses only when necessary.\n",
    "\n",
    "**Hint:** The correct output should start with a familiar number."
   ]
  },
  {
   "cell_type": "code",
   "execution_count": null,
   "id": "54188214",
   "metadata": {
    "tags": []
   },
   "outputs": [],
   "source": [
    "..."
   ]
  },
  {
   "cell_type": "markdown",
   "id": "d340f8b7",
   "metadata": {},
   "source": [
    "<!-- END QUESTION -->\n",
    "\n",
    "## Names\n",
    "In natural language, we have terminology that lets us quickly reference very complicated concepts.  We don't say, \"That's a large mammal with brown fur and sharp teeth!\"  Instead, we just say, \"Bear!\"\n",
    "\n",
    "In R, we do this with **assignment statements**. An assignment statement has a name on the left side of an `<-` sign and an expression to be evaluated on the right."
   ]
  },
  {
   "cell_type": "code",
   "execution_count": null,
   "id": "356f4378",
   "metadata": {},
   "outputs": [],
   "source": [
    "three_is_the_magic_number <- 1+1+1"
   ]
  },
  {
   "cell_type": "markdown",
   "id": "3d2ecce0",
   "metadata": {},
   "source": [
    "When you run that cell, R first computes the value of the expression on the right-hand side, `1+1+1`, which is the number 3.  Then it assigns that value to the name `three_is_the_magic_number`.  At that point, the code in the cell is done running.\n",
    "\n",
    "After you run that cell, the value 10 is bound to the name `three_is_the_magic_number`:"
   ]
  },
  {
   "cell_type": "code",
   "execution_count": null,
   "id": "703abaf6",
   "metadata": {},
   "outputs": [],
   "source": [
    "three_is_the_magic_number"
   ]
  },
  {
   "cell_type": "markdown",
   "id": "25b0fa84",
   "metadata": {},
   "source": [
    "A common pattern in Jupyter notebooks is to assign a value to a name and then immediately evaluate the name in the last line in the cell so that the value is displayed as output. "
   ]
  },
  {
   "cell_type": "code",
   "execution_count": null,
   "id": "014ab883",
   "metadata": {},
   "outputs": [],
   "source": [
    "close_to_pi <- 355/113\n",
    "close_to_pi"
   ]
  },
  {
   "cell_type": "markdown",
   "id": "f8ea4693",
   "metadata": {},
   "source": [
    "Another common pattern is that a series of lines in a single cell will build up a complex computation in stages, naming the intermediate results."
   ]
  },
  {
   "cell_type": "code",
   "execution_count": null,
   "id": "3f64172c",
   "metadata": {},
   "outputs": [],
   "source": [
    "semimonthly_salary <- 841.25\n",
    "monthly_salary <- 2*semimonthly_salary\n",
    "number_of_months_in_a_year <- 12\n",
    "yearly_salary <- number_of_months_in_a_year*monthly_salary\n",
    "yearly_salary"
   ]
  },
  {
   "cell_type": "markdown",
   "id": "ffaa0423",
   "metadata": {},
   "source": [
    "Names in R can have letters (upper- and lower-case letters are both okay and count as different letters), underscores, and numbers.  The first character can't be a number (otherwise a name might look like a number).  And names can't contain spaces, since spaces are used to separate pieces of code from each other.\n",
    "\n",
    "Other than those rules, what you name something doesn't matter to R. For example, this cell does the same thing as the above cell, except everything has a different name:"
   ]
  },
  {
   "cell_type": "code",
   "execution_count": null,
   "id": "66b62e6f",
   "metadata": {},
   "outputs": [],
   "source": [
    "a <- 841.25\n",
    "b <- 2*a\n",
    "c <- 12\n",
    "d <- c*b\n",
    "d"
   ]
  },
  {
   "cell_type": "markdown",
   "id": "7f698a47",
   "metadata": {},
   "source": [
    "**However**, names are very important for making your code readable to yourself and others.  The cell above is shorter, but it's totally useless without an explanation of what it does."
   ]
  },
  {
   "cell_type": "markdown",
   "id": "06eb7612",
   "metadata": {},
   "source": [
    "## Checking your code\n",
    "\n",
    "Now that you know how to name things, you can start using the built-in tests to check whether your work is correct. Sometimes, there are multiple tests for a single question, and passing all of them is required to receive credit for the question. A test cell will always look like:\n",
    "\n",
    "```\n",
    ". = ottr::check(\"tests/q5.R\")\n",
    "```\n",
    "\n",
    "Go ahead and attempt **Question 5.** Running the test cell directly after it will test whether you have assigned `seconds_in_a_decade` correctly in **Question 5.** If you haven't, this particular test will tell you the correct answer. Resist the urge to just copy it, and instead try to adjust your expression. Additionally, if you make a common error sometimes the tests will give hints about what went wrong."
   ]
  },
  {
   "cell_type": "markdown",
   "id": "7bb2561b",
   "metadata": {},
   "source": [
    "**Question 5.** Assign the name `seconds_in_a_decade` to the number of seconds between midnight January 1, 2010 and midnight January 1, 2020. Note that there are two leap years in this span of a decade. A non-leap year has 365 days and a leap year has 366 days."
   ]
  },
  {
   "cell_type": "code",
   "execution_count": null,
   "id": "ef7e4166",
   "metadata": {
    "tags": []
   },
   "outputs": [],
   "source": [
    "# Change the next line \n",
    "# so that it computes the number of seconds in a decade \n",
    "# and assigns that number the name, seconds_in_a_decade.\n",
    "\n",
    "seconds_in_a_decade <- ...\n",
    "\n",
    "# We've put this line in this cell \n",
    "# so that it will print the value you've given to seconds_in_a_decade when you run it.  \n",
    "# You don't need to change this.\n",
    "seconds_in_a_decade"
   ]
  },
  {
   "cell_type": "code",
   "execution_count": null,
   "id": "b1476ddf",
   "metadata": {
    "deletable": false,
    "editable": false
   },
   "outputs": [],
   "source": [
    ". = ottr::check(\"tests/q5.R\")"
   ]
  },
  {
   "cell_type": "markdown",
   "id": "a03f25bc",
   "metadata": {},
   "source": [
    "## Comments\n",
    "You may have noticed these lines in the cell in which you answered **Question 5.**:\n",
    "\n",
    "    # Change the next line \n",
    "    # so that it computes the number of seconds in a decade \n",
    "    # and assigns that number the name, seconds_in_a_decade.\n",
    "    \n",
    "This is called a **comment**. It doesn't make anything happen in Python; Python ignores anything on a line after a `#`.  Instead, it's there to communicate something about the code to you, the human reader. Comments are extremely useful. \n",
    "\n",
    "\n",
    "<img src=\"http://imgs.xkcd.com/comics/future_self.png\">\n",
    "\n",
    "**Source:** http://imgs.xkcd.com/comics/future_self.png"
   ]
  },
  {
   "cell_type": "markdown",
   "id": "bd0c7c4d",
   "metadata": {},
   "source": [
    "## Submitting your work\n",
    "You're done with Assignment 0. All assignments in the course will be distributed as notebooks like this one, and you will submit your work by doing the following:\n",
    "\n",
    "* Save your notebook.\n",
    "\n",
    "* Restart the kernel and run up to this cell.\n",
    "\n",
    "* Run the cell below with the code `grader.export(\"a0-r.ipynb\")`.\n",
    "\n",
    "* Download the file named `a0-r.zip`, found in the explorer pane on the left side of the screen.\n",
    "\n",
    "* Upload `a0-r.zip` to the Lab 01 assignment to Gradescope for Grading."
   ]
  },
  {
   "cell_type": "markdown",
   "id": "39d0f077",
   "metadata": {
    "deletable": false,
    "editable": false
   },
   "source": [
    "## Submission\n",
    "\n",
    "Make sure you have run all cells in your notebook in order before running the cell below, so that all images/graphs appear in the output. The cell below will generate a zip file for you to submit. **Please save before exporting!**\n",
    "\n",
    "When done exporting, download the .zip file by finding it in the file browswer on the left side of the screen, then right-click and select **Download**. You'll submit this .zip file for the assignment in Canvas to Gradescope for grading."
   ]
  },
  {
   "cell_type": "code",
   "execution_count": null,
   "id": "fe62b183",
   "metadata": {
    "deletable": false,
    "editable": false
   },
   "outputs": [],
   "source": [
    "# Save your notebook first, then run this cell to export your submission.\n",
    "ottr::export(\"a0-r.ipynb\")"
   ]
  },
  {
   "cell_type": "markdown",
   "id": "61616769",
   "metadata": {},
   "source": [
    " "
   ]
  }
 ],
 "metadata": {
  "kernelspec": {
   "display_name": "R",
   "language": "R",
   "name": "ir"
  },
  "language_info": {
   "codemirror_mode": "r",
   "file_extension": ".r",
   "mimetype": "text/x-r-source",
   "name": "R",
   "pygments_lexer": "r",
   "version": "4.1.2"
  }
 },
 "nbformat": 4,
 "nbformat_minor": 5
}
