{
 "cells": [
  {
   "cell_type": "markdown",
   "id": "497a59af",
   "metadata": {},
   "source": [
    "# Assignment 1: R Data Objects\n",
    "\n",
    "In this assignment you will create R objects. \n",
    "\n",
    "**Due:** End of Afternoon Session\n",
    "\n",
    "**Name:**\n",
    "\n",
    "**Date:**\n"
    "\n"
   ]
  },
  {
   "cell_type": "markdown",
   "id": "032f7fd5",
   "metadata": {},
   "source": [
    "**Question 1.** Create and save a vector that contains the elements 1, 3, 5, 7, 9. Name the object `num_vec`."
   ]
  },
  {
   "cell_type": "code",
   "execution_count": null,
   "id": "7afae0fa",
   "metadata": {
    "tags": []
   },
   "outputs": [],
   "source": [
    "num_vec <- ...\n",
    "num_vec"
   ]
  },
  {
   "cell_type": "code",
   "execution_count": null,
   "id": "c3abf18b",
   "metadata": {
    "deletable": false,
    "editable": false
   },
   "outputs": [],
   "source": [
    ". = ottr::check(\"tests/q1.R\")"
   ]
  },
  {
   "cell_type": "markdown",
   "id": "9ce095ee",
   "metadata": {},
   "source": [
    "**Question 2.** When performing a standard mathematical operation on a vector in `R`, the mathematical operation is applied to each element of the vector. Add 4 to each element `num_vec` and store the result in `num_vec_plus_4`."
   ]
  },
  {
   "cell_type": "code",
   "execution_count": null,
   "id": "9414003e",
   "metadata": {
    "tags": []
   },
   "outputs": [],
   "source": [
    "num_vec_plus_4 <- ...\n",
    "num_vec_plus_4"
   ]
  },
  {
   "cell_type": "code",
   "execution_count": null,
   "id": "3d36fe7f",
   "metadata": {
    "deletable": false,
    "editable": false
   },
   "outputs": [],
   "source": [
    ". = ottr::check(\"tests/q2.R\")"
   ]
  },
  {
   "cell_type": "markdown",
   "id": "2177da88",
   "metadata": {},
   "source": [
    "**Question 3.** Square each element of each element `num_vec` and store the result in `num_vec_squared`."
   ]
  },
  {
   "cell_type": "code",
   "execution_count": null,
   "id": "5177002e",
   "metadata": {
    "tags": []
   },
   "outputs": [],
   "source": [
    "num_vec_squared <- ...\n",
    "num_vec_squared"
   ]
  },
  {
   "cell_type": "code",
   "execution_count": null,
   "id": "037655f1",
   "metadata": {
    "deletable": false,
    "editable": false
   },
   "outputs": [],
   "source": [
    ". = ottr::check(\"tests/q3.R\")"
   ]
  },
  {
   "cell_type": "markdown",
   "id": "67b0b712",
   "metadata": {},
   "source": [
    "**Question 4.** Create and save a vector that contains the all the odd integers from 1 to 999. Name the object `odd_integers`.\n",
    "\n",
    "**Hint:** Refer to the `seq()` function from this morning's session. Click [here](https://www.rdocumentation.org/packages/base/versions/3.6.2/topics/seq) to read the documentation. "
   ]
  },
  {
   "cell_type": "code",
   "execution_count": null,
   "id": "cdeded70",
   "metadata": {
    "tags": []
   },
   "outputs": [],
   "source": [
    "odd_integers <- ...\n",
    "odd_integers"
   ]
  },
  {
   "cell_type": "code",
   "execution_count": null,
   "id": "1e4db0d4",
   "metadata": {
    "deletable": false,
    "editable": false
   },
   "outputs": [],
   "source": [
    ". = ottr::check(\"tests/q4.R\")"
   ]
  },
  {
   "cell_type": "markdown",
   "id": "969bac3e",
   "metadata": {},
   "source": [
    "**Question 5.** Create a vector that consists of 5 different states you would like to, or have already visited, for a vacation. Name the object `vac_states`.\n",
    "\n",
    "**Note:** Use the abbreviation instead of the full state name. For example, use NC, instead of North Carolina."
   ]
  },
  {
   "cell_type": "code",
   "execution_count": null,
   "id": "3eaf9c1e",
   "metadata": {
    "tags": []
   },
   "outputs": [],
   "source": [
    "vac_states <- ...\n",
    "vac_states"
   ]
  },
  {
   "cell_type": "code",
   "execution_count": null,
   "id": "a9c61cfe",
   "metadata": {
    "deletable": false,
    "editable": false
   },
   "outputs": [],
   "source": [
    ". = ottr::check(\"tests/q5.R\")"
   ]
  },
  {
   "cell_type": "markdown",
   "id": "2564c2a0",
   "metadata": {},
   "source": [
    "**Question 6.** Create and save a second vector of that consists of the capitals of the states you listed in **Question 5**. Name the object `cap_vacation`.\n",
    "\n",
    "**Note:** Spell out the full name of the US city. For example, the capital of Utah is Salt Lake City."
   ]
  },
  {
   "cell_type": "code",
   "execution_count": null,
   "id": "e0c08185",
   "metadata": {
    "tags": []
   },
   "outputs": [],
   "source": [
    "cap_vacation <- ...\n",
    "cap_vacation"
   ]
  },
  {
   "cell_type": "code",
   "execution_count": null,
   "id": "1dfe9e7a",
   "metadata": {
    "deletable": false,
    "editable": false
   },
   "outputs": [],
   "source": [
    ". = ottr::check(\"tests/q6.R\")"
   ]
  },
  {
   "cell_type": "markdown",
   "id": "2643990b",
   "metadata": {},
   "source": [
    "**Question 7.** Create and save a matrix based on the following table \n",
    "\n",
    "|            |**person_id**|**hw1_grade**|**hw2_grade**|\n",
    "|------------|-------------|-------------|-------------|\n",
    "|**person_1**|5AXQ         |85           |95           |\n",
    "|**person_2**|5BMF         |80           |60           |\n",
    "|**person_3**|4JLR         |100          |99           |\n",
    "\n",
    "Store your matrix in `grades_mat`.\n",
    "\n",
    "**Note:** **Bold** text refers to row names and column names.\n"
   ]
  },
  {
   "cell_type": "code",
   "execution_count": null,
   "id": "91341a00",
   "metadata": {
    "tags": []
   },
   "outputs": [],
   "source": [
    "... <- ...\n",
    "... <- ...\n",
    "... <- ...\n",
    "\n",
    "rownames <- ...\n",
    "colnames <- ...\n",
    "\n",
    "grades_mat <- ...\n",
    "grades_mat"
   ]
  },
  {
   "cell_type": "code",
   "execution_count": null,
   "id": "a3072910",
   "metadata": {
    "deletable": false,
    "editable": false
   },
   "outputs": [],
   "source": [
    ". = ottr::check(\"tests/q7.R\")"
   ]
  },
  {
   "cell_type": "markdown",
   "id": "6b507760",
   "metadata": {},
   "source": [
    "**Question 8.** Create a list according to the following specifications:\n",
    "\n",
    "* The first element in the list should be the string \"This is my first list!\"\n",
    "\n",
    "* The second element in the list should be a vector of the even integers from 20 to 40 inclusive\n",
    "\n",
    "* The third element in the list should be a vector the first 10 squares\n",
    "\n",
    "Name the list `my_first_list`."
   ]
  },
  {
   "cell_type": "code",
   "execution_count": null,
   "id": "9e2fe134",
   "metadata": {
    "tags": []
   },
   "outputs": [],
   "source": [
    "my_first_list <- ...\n",
    "my_first_list"
   ]
  },
  {
   "cell_type": "code",
   "execution_count": null,
   "id": "a631fdd5",
   "metadata": {
    "deletable": false,
    "editable": false
   },
   "outputs": [],
   "source": [
    ". = ottr::check(\"tests/q8.R\")"
   ]
  },
  {
   "cell_type": "markdown",
   "id": "24b93e22",
   "metadata": {},
   "source": [
    "**Question 9.** Create a dataframe according to the following specifications:\n",
    "\n",
    "* The first column should be the vector `cap_vacation`.\n",
    "\n",
    "* The second column  should be the vector `vac_states`\n",
    "\n",
    "* The third column should be a ranking from 1 to 5 (1 being your favorite or place that you desire most to visit)\n",
    "\n",
    "Name the dataframe `my_first_dataframe`."
   ]
  },
  {
   "cell_type": "code",
   "execution_count": null,
   "id": "2a73eefc",
   "metadata": {
    "tags": []
   },
   "outputs": [],
   "source": [
    "rank <- ...\n",
    "my_first_dataframe <- ...\n",
    "my_first_dataframe"
   ]
  },
  {
   "cell_type": "code",
   "execution_count": null,
   "id": "46adff61",
   "metadata": {
    "deletable": false,
    "editable": false
   },
   "outputs": [],
   "source": [
    ". = ottr::check(\"tests/q9.R\")"
   ]
  },
  {
   "cell_type": "markdown",
   "id": "0579a993",
   "metadata": {
    "deletable": false,
    "editable": false
   },
   "source": [
    "## Submission\n",
    "\n",
    "Make sure you have run all cells in your notebook in order before running the cell below, so that all images/graphs appear in the output. The cell below will generate a zip file for you to submit. **Please save before exporting!**\n",
    "\n",
    "When done exporting, download the .zip file by finding it in the file browswer on the left side of the screen, then right-click and select **Download**. You'll submit this .zip file for the assignment in Canvas to Gradescope for grading."
   ]
  },
  {
   "cell_type": "code",
   "execution_count": null,
   "id": "ddeb8626",
   "metadata": {
    "deletable": false,
    "editable": false
   },
   "outputs": [],
   "source": [
    "# Save your notebook first, then run this cell to export your submission.\n",
    "ottr::export(\"a1-r.ipynb\")"
   ]
  },
  {
   "cell_type": "markdown",
   "id": "38abc530",
   "metadata": {},
   "source": [
    " "
   ]
  }
 ],
 "metadata": {
  "kernelspec": {
   "display_name": "R",
   "language": "R",
   "name": "ir"
  },
  "language_info": {
   "codemirror_mode": "r",
   "file_extension": ".r",
   "mimetype": "text/x-r-source",
   "name": "R",
   "pygments_lexer": "r",
   "version": "4.1.2"
  }
 },
 "nbformat": 4,
 "nbformat_minor": 5
}
