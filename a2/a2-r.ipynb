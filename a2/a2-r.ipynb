{
 "cells": [
  {
   "cell_type": "markdown",
   "id": "f49ffc6a",
   "metadata": {},
   "source": [
    "# Assignment 2: Accessing R Data Objects\n",
    "\n",
    "In this assignment you will create R objects. \n",
    "\n",
    "**Due:** End of Afternoon Session\n",
    "\n",
    "**Name:**\n",
    "\n",
    "**Date:**\n",
    "\n",
    "Run the cell below to see the `iris` dataset. This famous (Fisher's or Anderson's) iris data set gives the measurements in centimeters of the variables sepal length and width and petal length and width, respectively, for 50 flowers from each of 3 species of iris. The species are Iris *setosa*, *versicolor*, and *virginica*. To read more about the dataset click [here](https://stat.ethz.ch/R-manual/R-devel/library/datasets/html/iris.html)."
   ]
  },
  {
   "cell_type": "code",
   "execution_count": null,
   "id": "6e536d7b",
   "metadata": {},
   "outputs": [],
   "source": [
    "iris"
   ]
  },
  {
   "cell_type": "markdown",
   "id": "154e1f75",
   "metadata": {},
   "source": [
    "**Question 1.** Save the first column of the `iris` dataset to `iris_col1`."
   ]
  },
  {
   "cell_type": "code",
   "execution_count": null,
   "id": "fee43bb4",
   "metadata": {
    "tags": []
   },
   "outputs": [],
   "source": [
    "iris_col1 <- ...\n",
    "iris_col1"
   ]
  },
  {
   "cell_type": "code",
   "execution_count": null,
   "id": "39498723",
   "metadata": {
    "deletable": false,
    "editable": false
   },
   "outputs": [],
   "source": [
    ". = ottr::check(\"tests/q1.R\")"
   ]
  },
  {
   "cell_type": "markdown",
   "id": "b6cea04e",
   "metadata": {},
   "source": [
    "**Question 2.** Save the third row of the `iris` dataset to `iris_row3`."
   ]
  },
  {
   "cell_type": "code",
   "execution_count": null,
   "id": "6027eb23",
   "metadata": {
    "tags": []
   },
   "outputs": [],
   "source": [
    "iris_row3 <- ...\n",
    "iris_row3"
   ]
  },
  {
   "cell_type": "code",
   "execution_count": null,
   "id": "35003866",
   "metadata": {
    "deletable": false,
    "editable": false
   },
   "outputs": [],
   "source": [
    ". = ottr::check(\"tests/q2.R\")"
   ]
  },
  {
   "cell_type": "markdown",
   "id": "1dc64c25",
   "metadata": {},
   "source": [
    "**Question 3.** Save the first and fourth rows of the `iris` dataset to `iris_row1_row4`."
   ]
  },
  {
   "cell_type": "code",
   "execution_count": null,
   "id": "b3eae2e4",
   "metadata": {
    "tags": []
   },
   "outputs": [],
   "source": [
    "iris_row1_row4 <- ...\n",
    "iris_row1_row4"
   ]
  },
  {
   "cell_type": "code",
   "execution_count": null,
   "id": "f5195a1a",
   "metadata": {
    "deletable": false,
    "editable": false
   },
   "outputs": [],
   "source": [
    ". = ottr::check(\"tests/q3.R\")"
   ]
  },
  {
   "cell_type": "markdown",
   "id": "399e3cf4",
   "metadata": {},
   "source": [
    "<!-- BEGIN QUESTION -->\n",
    "\n",
    "**Question 4.** List the structure of the `iris` dataset."
   ]
  },
  {
   "cell_type": "code",
   "execution_count": null,
   "id": "4d4c29d0",
   "metadata": {
    "tags": []
   },
   "outputs": [],
   "source": [
    "..."
   ]
  },
  {
   "cell_type": "markdown",
   "id": "03100ff0",
   "metadata": {},
   "source": [
    "<!-- END QUESTION -->\n",
    "\n",
    "**Question 5.** What type of data structure is listed for the `Species` column. Save the name as a character string to the variable `data_struture_species`."
   ]
  },
  {
   "cell_type": "code",
   "execution_count": null,
   "id": "c72ce295",
   "metadata": {
    "tags": []
   },
   "outputs": [],
   "source": [
    "data_struture_species <- ...\n",
    "data_struture_species"
   ]
  },
  {
   "cell_type": "code",
   "execution_count": null,
   "id": "3ddf13e3",
   "metadata": {
    "deletable": false,
    "editable": false
   },
   "outputs": [],
   "source": [
    ". = ottr::check(\"tests/q5.R\")"
   ]
  },
  {
   "cell_type": "markdown",
   "id": "7f067f71",
   "metadata": {},
   "source": [
    "<!-- BEGIN QUESTION -->\n",
    "\n",
    "**Question 6.** List the attributes of the object `iris`?"
   ]
  },
  {
   "cell_type": "code",
   "execution_count": null,
   "id": "868dfd1d",
   "metadata": {
    "tags": []
   },
   "outputs": [],
   "source": [
    "# YOUR CODE HERE"
   ]
  },
  {
   "cell_type": "markdown",
   "id": "dace1434",
   "metadata": {},
   "source": [
    "<!-- END QUESTION -->\n",
    "\n",
    "<!-- BEGIN QUESTION -->\n",
    "\n",
    "**Question 7.** Use the `summary()` function to view numerical summaries of the `iris` dataset."
   ]
  },
  {
   "cell_type": "code",
   "execution_count": null,
   "id": "13ed26db",
   "metadata": {
    "tags": []
   },
   "outputs": [],
   "source": [
    "# YOUR CODE HERE"
   ]
  },
  {
   "cell_type": "markdown",
   "id": "333ad21c",
   "metadata": {},
   "source": [
    "<!-- END QUESTION -->\n",
    "\n",
    "**Question 8.** Create a dataframe according to the following specifications:\n",
    "\n",
    "* The first column should be named `team` and contain 'A', 'B', 'C', 'D', 'E'\n",
    "\n",
    "* The second column should be named `points` and contain 99, 90, 86, 88, 95\n",
    "\n",
    "* The third column should be named `assists` and contain 33, 28, 31, 39, 34\n",
    "\n",
    "* The fourth column should be named `rebounds` and contain 30, 28, 24, 24, 28\n",
    "\n",
    "Name the dataframe `team_stats`."
   ]
  },
  {
   "cell_type": "code",
   "execution_count": null,
   "id": "884f9d59",
   "metadata": {
    "tags": []
   },
   "outputs": [],
   "source": [
    "team <- ...\n",
    "points <- ...\n",
    "assists <- ...\n",
    "rebounds <- ...\n",
    "team_sats <- ...\n",
    "team_stats"
   ]
  },
  {
   "cell_type": "code",
   "execution_count": null,
   "id": "85cf378e",
   "metadata": {
    "deletable": false,
    "editable": false
   },
   "outputs": [],
   "source": [
    ". = ottr::check(\"tests/q8.R\")"
   ]
  },
  {
   "cell_type": "markdown",
   "id": "9cfc1653",
   "metadata": {},
   "source": [
    "<!-- BEGIN QUESTION -->\n",
    "\n",
    "**Question 9.** List the average number of points, assists, and rebounds. Assign these values to a vector named `team_averages`.\n",
    "\n",
    "**Hint:** There is a function in R called `mean()`. If you want to try to use it, click [here](https://www.rdocumentation.org/packages/base/versions/3.6.2/topics/mean) to read the documentation."
   ]
  },
  {
   "cell_type": "code",
   "execution_count": null,
   "id": "a8fe2856",
   "metadata": {
    "tags": []
   },
   "outputs": [],
   "source": [
    "team_averages <- ..."
   ]
  },
  {
   "cell_type": "code",
   "execution_count": null,
   "id": "9f46cca8",
   "metadata": {
    "deletable": false,
    "editable": false
   },
   "outputs": [],
   "source": [
    ". = ottr::check(\"tests/q9.R\")"
   ]
  },
  {
   "cell_type": "markdown",
   "id": "a57b2a45",
   "metadata": {},
   "source": [
    "<!-- END QUESTION -->\n",
    "\n"
   ]
  },
  {
   "cell_type": "markdown",
   "id": "cb31a107",
   "metadata": {
    "deletable": false,
    "editable": false
   },
   "source": [
    "## Submission\n",
    "\n",
    "Make sure you have run all cells in your notebook in order before running the cell below, so that all images/graphs appear in the output. The cell below will generate a zip file for you to submit. **Please save before exporting!**\n",
    "\n",
    "When done exporting, download the .zip file by finding it in the file browswer on the left side of the screen, then right-click and select **Download**. You'll submit this .zip file for the assignment in Canvas to Gradescope for grading."
   ]
  },
  {
   "cell_type": "code",
   "execution_count": null,
   "id": "5b421ddf",
   "metadata": {
    "deletable": false,
    "editable": false
   },
   "outputs": [],
   "source": [
    "# Save your notebook first, then run this cell to export your submission.\n",
    "ottr::export(\"a2-r.ipynb\")"
   ]
  },
  {
   "cell_type": "markdown",
   "id": "29e8070c",
   "metadata": {},
   "source": [
    " "
   ]
  }
 ],
 "metadata": {
  "kernelspec": {
   "display_name": "R",
   "language": "R",
   "name": "ir"
  },
  "language_info": {
   "codemirror_mode": "r",
   "file_extension": ".r",
   "mimetype": "text/x-r-source",
   "name": "R",
   "pygments_lexer": "r",
   "version": "4.1.2"
  }
 },
 "nbformat": 4,
 "nbformat_minor": 5
}
